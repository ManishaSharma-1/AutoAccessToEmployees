{
 "cells": [
  {
   "cell_type": "code",
   "execution_count": 54,
   "metadata": {},
   "outputs": [],
   "source": [
    "import flask\n",
    "import matplotlib.pyplot as plt"
   ]
  },
  {
   "cell_type": "code",
   "execution_count": 68,
   "metadata": {},
   "outputs": [],
   "source": [
    "import pandas\n",
    "x = pandas.read_csv(\"data/train.csv\")"
   ]
  },
  {
   "cell_type": "code",
   "execution_count": 58,
   "metadata": {},
   "outputs": [],
   "source": [
    "import plotly.graph_objects as go\n",
    "import json\n",
    "import plotly\n",
    "\n",
    "x_val = ['Action Denied','Action Accepted']\n",
    "colors = ['lightslategray','crimson'] \n",
    "\n",
    "x_0 = len(x[x['ACTION'] == 0])\n",
    "x_1 = len(x[x['ACTION'] == 1])\n",
    "fig = plotly.graph_objects.Figure([go.Bar(x=x_val, y = [x_0,x_1], text=[x_0,x_1],textposition='auto',  marker_color=colors)])\n",
    "fig.update_layout(title_text='Count of Action Denied and Action Accepted - Clearly Class Imbalance!')\n",
    "a = fig.to_json()\n",
    "z = json.dumps(a,cls = plotly.utils.PlotlyJSONEncoder)"
   ]
  },
  {
   "cell_type": "code",
   "execution_count": 59,
   "metadata": {},
   "outputs": [
    {
     "data": {
      "application/vnd.plotly.v1+json": {
       "config": {
        "plotlyServerURL": "https://plot.ly"
       },
       "data": [
        {
         "marker": {
          "color": [
           "lightslategray"
          ]
         },
         "text": [
          2,
          7518,
          4243,
          128,
          177,
          449,
          343,
          2358,
          67,
          343
         ],
         "textposition": "auto",
         "type": "bar",
         "x": [
          "ACTION",
          "RESOURCE",
          "MGR_ID",
          "ROLE_ROLLUP_1",
          "ROLE_ROLLUP_2",
          "ROLE_DEPTNAME",
          "ROLE_TITLE",
          "ROLE_FAMILY_DESC",
          "ROLE_FAMILY",
          "ROLE_CODE"
         ],
         "y": [
          2,
          7518,
          4243,
          128,
          177,
          449,
          343,
          2358,
          67,
          343
         ]
        }
       ],
       "layout": {
        "template": {
         "data": {
          "bar": [
           {
            "error_x": {
             "color": "#2a3f5f"
            },
            "error_y": {
             "color": "#2a3f5f"
            },
            "marker": {
             "line": {
              "color": "#E5ECF6",
              "width": 0.5
             }
            },
            "type": "bar"
           }
          ],
          "barpolar": [
           {
            "marker": {
             "line": {
              "color": "#E5ECF6",
              "width": 0.5
             }
            },
            "type": "barpolar"
           }
          ],
          "carpet": [
           {
            "aaxis": {
             "endlinecolor": "#2a3f5f",
             "gridcolor": "white",
             "linecolor": "white",
             "minorgridcolor": "white",
             "startlinecolor": "#2a3f5f"
            },
            "baxis": {
             "endlinecolor": "#2a3f5f",
             "gridcolor": "white",
             "linecolor": "white",
             "minorgridcolor": "white",
             "startlinecolor": "#2a3f5f"
            },
            "type": "carpet"
           }
          ],
          "choropleth": [
           {
            "colorbar": {
             "outlinewidth": 0,
             "ticks": ""
            },
            "type": "choropleth"
           }
          ],
          "contour": [
           {
            "colorbar": {
             "outlinewidth": 0,
             "ticks": ""
            },
            "colorscale": [
             [
              0,
              "#0d0887"
             ],
             [
              0.1111111111111111,
              "#46039f"
             ],
             [
              0.2222222222222222,
              "#7201a8"
             ],
             [
              0.3333333333333333,
              "#9c179e"
             ],
             [
              0.4444444444444444,
              "#bd3786"
             ],
             [
              0.5555555555555556,
              "#d8576b"
             ],
             [
              0.6666666666666666,
              "#ed7953"
             ],
             [
              0.7777777777777778,
              "#fb9f3a"
             ],
             [
              0.8888888888888888,
              "#fdca26"
             ],
             [
              1,
              "#f0f921"
             ]
            ],
            "type": "contour"
           }
          ],
          "contourcarpet": [
           {
            "colorbar": {
             "outlinewidth": 0,
             "ticks": ""
            },
            "type": "contourcarpet"
           }
          ],
          "heatmap": [
           {
            "colorbar": {
             "outlinewidth": 0,
             "ticks": ""
            },
            "colorscale": [
             [
              0,
              "#0d0887"
             ],
             [
              0.1111111111111111,
              "#46039f"
             ],
             [
              0.2222222222222222,
              "#7201a8"
             ],
             [
              0.3333333333333333,
              "#9c179e"
             ],
             [
              0.4444444444444444,
              "#bd3786"
             ],
             [
              0.5555555555555556,
              "#d8576b"
             ],
             [
              0.6666666666666666,
              "#ed7953"
             ],
             [
              0.7777777777777778,
              "#fb9f3a"
             ],
             [
              0.8888888888888888,
              "#fdca26"
             ],
             [
              1,
              "#f0f921"
             ]
            ],
            "type": "heatmap"
           }
          ],
          "heatmapgl": [
           {
            "colorbar": {
             "outlinewidth": 0,
             "ticks": ""
            },
            "colorscale": [
             [
              0,
              "#0d0887"
             ],
             [
              0.1111111111111111,
              "#46039f"
             ],
             [
              0.2222222222222222,
              "#7201a8"
             ],
             [
              0.3333333333333333,
              "#9c179e"
             ],
             [
              0.4444444444444444,
              "#bd3786"
             ],
             [
              0.5555555555555556,
              "#d8576b"
             ],
             [
              0.6666666666666666,
              "#ed7953"
             ],
             [
              0.7777777777777778,
              "#fb9f3a"
             ],
             [
              0.8888888888888888,
              "#fdca26"
             ],
             [
              1,
              "#f0f921"
             ]
            ],
            "type": "heatmapgl"
           }
          ],
          "histogram": [
           {
            "marker": {
             "colorbar": {
              "outlinewidth": 0,
              "ticks": ""
             }
            },
            "type": "histogram"
           }
          ],
          "histogram2d": [
           {
            "colorbar": {
             "outlinewidth": 0,
             "ticks": ""
            },
            "colorscale": [
             [
              0,
              "#0d0887"
             ],
             [
              0.1111111111111111,
              "#46039f"
             ],
             [
              0.2222222222222222,
              "#7201a8"
             ],
             [
              0.3333333333333333,
              "#9c179e"
             ],
             [
              0.4444444444444444,
              "#bd3786"
             ],
             [
              0.5555555555555556,
              "#d8576b"
             ],
             [
              0.6666666666666666,
              "#ed7953"
             ],
             [
              0.7777777777777778,
              "#fb9f3a"
             ],
             [
              0.8888888888888888,
              "#fdca26"
             ],
             [
              1,
              "#f0f921"
             ]
            ],
            "type": "histogram2d"
           }
          ],
          "histogram2dcontour": [
           {
            "colorbar": {
             "outlinewidth": 0,
             "ticks": ""
            },
            "colorscale": [
             [
              0,
              "#0d0887"
             ],
             [
              0.1111111111111111,
              "#46039f"
             ],
             [
              0.2222222222222222,
              "#7201a8"
             ],
             [
              0.3333333333333333,
              "#9c179e"
             ],
             [
              0.4444444444444444,
              "#bd3786"
             ],
             [
              0.5555555555555556,
              "#d8576b"
             ],
             [
              0.6666666666666666,
              "#ed7953"
             ],
             [
              0.7777777777777778,
              "#fb9f3a"
             ],
             [
              0.8888888888888888,
              "#fdca26"
             ],
             [
              1,
              "#f0f921"
             ]
            ],
            "type": "histogram2dcontour"
           }
          ],
          "mesh3d": [
           {
            "colorbar": {
             "outlinewidth": 0,
             "ticks": ""
            },
            "type": "mesh3d"
           }
          ],
          "parcoords": [
           {
            "line": {
             "colorbar": {
              "outlinewidth": 0,
              "ticks": ""
             }
            },
            "type": "parcoords"
           }
          ],
          "pie": [
           {
            "automargin": true,
            "type": "pie"
           }
          ],
          "scatter": [
           {
            "marker": {
             "colorbar": {
              "outlinewidth": 0,
              "ticks": ""
             }
            },
            "type": "scatter"
           }
          ],
          "scatter3d": [
           {
            "line": {
             "colorbar": {
              "outlinewidth": 0,
              "ticks": ""
             }
            },
            "marker": {
             "colorbar": {
              "outlinewidth": 0,
              "ticks": ""
             }
            },
            "type": "scatter3d"
           }
          ],
          "scattercarpet": [
           {
            "marker": {
             "colorbar": {
              "outlinewidth": 0,
              "ticks": ""
             }
            },
            "type": "scattercarpet"
           }
          ],
          "scattergeo": [
           {
            "marker": {
             "colorbar": {
              "outlinewidth": 0,
              "ticks": ""
             }
            },
            "type": "scattergeo"
           }
          ],
          "scattergl": [
           {
            "marker": {
             "colorbar": {
              "outlinewidth": 0,
              "ticks": ""
             }
            },
            "type": "scattergl"
           }
          ],
          "scattermapbox": [
           {
            "marker": {
             "colorbar": {
              "outlinewidth": 0,
              "ticks": ""
             }
            },
            "type": "scattermapbox"
           }
          ],
          "scatterpolar": [
           {
            "marker": {
             "colorbar": {
              "outlinewidth": 0,
              "ticks": ""
             }
            },
            "type": "scatterpolar"
           }
          ],
          "scatterpolargl": [
           {
            "marker": {
             "colorbar": {
              "outlinewidth": 0,
              "ticks": ""
             }
            },
            "type": "scatterpolargl"
           }
          ],
          "scatterternary": [
           {
            "marker": {
             "colorbar": {
              "outlinewidth": 0,
              "ticks": ""
             }
            },
            "type": "scatterternary"
           }
          ],
          "surface": [
           {
            "colorbar": {
             "outlinewidth": 0,
             "ticks": ""
            },
            "colorscale": [
             [
              0,
              "#0d0887"
             ],
             [
              0.1111111111111111,
              "#46039f"
             ],
             [
              0.2222222222222222,
              "#7201a8"
             ],
             [
              0.3333333333333333,
              "#9c179e"
             ],
             [
              0.4444444444444444,
              "#bd3786"
             ],
             [
              0.5555555555555556,
              "#d8576b"
             ],
             [
              0.6666666666666666,
              "#ed7953"
             ],
             [
              0.7777777777777778,
              "#fb9f3a"
             ],
             [
              0.8888888888888888,
              "#fdca26"
             ],
             [
              1,
              "#f0f921"
             ]
            ],
            "type": "surface"
           }
          ],
          "table": [
           {
            "cells": {
             "fill": {
              "color": "#EBF0F8"
             },
             "line": {
              "color": "white"
             }
            },
            "header": {
             "fill": {
              "color": "#C8D4E3"
             },
             "line": {
              "color": "white"
             }
            },
            "type": "table"
           }
          ]
         },
         "layout": {
          "annotationdefaults": {
           "arrowcolor": "#2a3f5f",
           "arrowhead": 0,
           "arrowwidth": 1
          },
          "coloraxis": {
           "colorbar": {
            "outlinewidth": 0,
            "ticks": ""
           }
          },
          "colorscale": {
           "diverging": [
            [
             0,
             "#8e0152"
            ],
            [
             0.1,
             "#c51b7d"
            ],
            [
             0.2,
             "#de77ae"
            ],
            [
             0.3,
             "#f1b6da"
            ],
            [
             0.4,
             "#fde0ef"
            ],
            [
             0.5,
             "#f7f7f7"
            ],
            [
             0.6,
             "#e6f5d0"
            ],
            [
             0.7,
             "#b8e186"
            ],
            [
             0.8,
             "#7fbc41"
            ],
            [
             0.9,
             "#4d9221"
            ],
            [
             1,
             "#276419"
            ]
           ],
           "sequential": [
            [
             0,
             "#0d0887"
            ],
            [
             0.1111111111111111,
             "#46039f"
            ],
            [
             0.2222222222222222,
             "#7201a8"
            ],
            [
             0.3333333333333333,
             "#9c179e"
            ],
            [
             0.4444444444444444,
             "#bd3786"
            ],
            [
             0.5555555555555556,
             "#d8576b"
            ],
            [
             0.6666666666666666,
             "#ed7953"
            ],
            [
             0.7777777777777778,
             "#fb9f3a"
            ],
            [
             0.8888888888888888,
             "#fdca26"
            ],
            [
             1,
             "#f0f921"
            ]
           ],
           "sequentialminus": [
            [
             0,
             "#0d0887"
            ],
            [
             0.1111111111111111,
             "#46039f"
            ],
            [
             0.2222222222222222,
             "#7201a8"
            ],
            [
             0.3333333333333333,
             "#9c179e"
            ],
            [
             0.4444444444444444,
             "#bd3786"
            ],
            [
             0.5555555555555556,
             "#d8576b"
            ],
            [
             0.6666666666666666,
             "#ed7953"
            ],
            [
             0.7777777777777778,
             "#fb9f3a"
            ],
            [
             0.8888888888888888,
             "#fdca26"
            ],
            [
             1,
             "#f0f921"
            ]
           ]
          },
          "colorway": [
           "#636efa",
           "#EF553B",
           "#00cc96",
           "#ab63fa",
           "#FFA15A",
           "#19d3f3",
           "#FF6692",
           "#B6E880",
           "#FF97FF",
           "#FECB52"
          ],
          "font": {
           "color": "#2a3f5f"
          },
          "geo": {
           "bgcolor": "white",
           "lakecolor": "white",
           "landcolor": "#E5ECF6",
           "showlakes": true,
           "showland": true,
           "subunitcolor": "white"
          },
          "hoverlabel": {
           "align": "left"
          },
          "hovermode": "closest",
          "mapbox": {
           "style": "light"
          },
          "paper_bgcolor": "white",
          "plot_bgcolor": "#E5ECF6",
          "polar": {
           "angularaxis": {
            "gridcolor": "white",
            "linecolor": "white",
            "ticks": ""
           },
           "bgcolor": "#E5ECF6",
           "radialaxis": {
            "gridcolor": "white",
            "linecolor": "white",
            "ticks": ""
           }
          },
          "scene": {
           "xaxis": {
            "backgroundcolor": "#E5ECF6",
            "gridcolor": "white",
            "gridwidth": 2,
            "linecolor": "white",
            "showbackground": true,
            "ticks": "",
            "zerolinecolor": "white"
           },
           "yaxis": {
            "backgroundcolor": "#E5ECF6",
            "gridcolor": "white",
            "gridwidth": 2,
            "linecolor": "white",
            "showbackground": true,
            "ticks": "",
            "zerolinecolor": "white"
           },
           "zaxis": {
            "backgroundcolor": "#E5ECF6",
            "gridcolor": "white",
            "gridwidth": 2,
            "linecolor": "white",
            "showbackground": true,
            "ticks": "",
            "zerolinecolor": "white"
           }
          },
          "shapedefaults": {
           "line": {
            "color": "#2a3f5f"
           }
          },
          "ternary": {
           "aaxis": {
            "gridcolor": "white",
            "linecolor": "white",
            "ticks": ""
           },
           "baxis": {
            "gridcolor": "white",
            "linecolor": "white",
            "ticks": ""
           },
           "bgcolor": "#E5ECF6",
           "caxis": {
            "gridcolor": "white",
            "linecolor": "white",
            "ticks": ""
           }
          },
          "title": {
           "x": 0.05
          },
          "xaxis": {
           "automargin": true,
           "gridcolor": "white",
           "linecolor": "white",
           "ticks": "",
           "title": {
            "standoff": 15
           },
           "zerolinecolor": "white",
           "zerolinewidth": 2
          },
          "yaxis": {
           "automargin": true,
           "gridcolor": "white",
           "linecolor": "white",
           "ticks": "",
           "title": {
            "standoff": 15
           },
           "zerolinecolor": "white",
           "zerolinewidth": 2
          }
         }
        },
        "title": {
         "text": "Unique categories - Train Data Set!"
        }
       }
      },
      "text/html": [
       "<div>\n",
       "        \n",
       "        \n",
       "            <div id=\"876d28d0-8b0a-4f86-863c-c7596ae1f96e\" class=\"plotly-graph-div\" style=\"height:525px; width:100%;\"></div>\n",
       "            <script type=\"text/javascript\">\n",
       "                require([\"plotly\"], function(Plotly) {\n",
       "                    window.PLOTLYENV=window.PLOTLYENV || {};\n",
       "                    \n",
       "                if (document.getElementById(\"876d28d0-8b0a-4f86-863c-c7596ae1f96e\")) {\n",
       "                    Plotly.newPlot(\n",
       "                        '876d28d0-8b0a-4f86-863c-c7596ae1f96e',\n",
       "                        [{\"marker\": {\"color\": [\"lightslategray\"]}, \"text\": [2.0, 7518.0, 4243.0, 128.0, 177.0, 449.0, 343.0, 2358.0, 67.0, 343.0], \"textposition\": \"auto\", \"type\": \"bar\", \"x\": [\"ACTION\", \"RESOURCE\", \"MGR_ID\", \"ROLE_ROLLUP_1\", \"ROLE_ROLLUP_2\", \"ROLE_DEPTNAME\", \"ROLE_TITLE\", \"ROLE_FAMILY_DESC\", \"ROLE_FAMILY\", \"ROLE_CODE\"], \"y\": [2, 7518, 4243, 128, 177, 449, 343, 2358, 67, 343]}],\n",
       "                        {\"template\": {\"data\": {\"bar\": [{\"error_x\": {\"color\": \"#2a3f5f\"}, \"error_y\": {\"color\": \"#2a3f5f\"}, \"marker\": {\"line\": {\"color\": \"#E5ECF6\", \"width\": 0.5}}, \"type\": \"bar\"}], \"barpolar\": [{\"marker\": {\"line\": {\"color\": \"#E5ECF6\", \"width\": 0.5}}, \"type\": \"barpolar\"}], \"carpet\": [{\"aaxis\": {\"endlinecolor\": \"#2a3f5f\", \"gridcolor\": \"white\", \"linecolor\": \"white\", \"minorgridcolor\": \"white\", \"startlinecolor\": \"#2a3f5f\"}, \"baxis\": {\"endlinecolor\": \"#2a3f5f\", \"gridcolor\": \"white\", \"linecolor\": \"white\", \"minorgridcolor\": \"white\", \"startlinecolor\": \"#2a3f5f\"}, \"type\": \"carpet\"}], \"choropleth\": [{\"colorbar\": {\"outlinewidth\": 0, \"ticks\": \"\"}, \"type\": \"choropleth\"}], \"contour\": [{\"colorbar\": {\"outlinewidth\": 0, \"ticks\": \"\"}, \"colorscale\": [[0.0, \"#0d0887\"], [0.1111111111111111, \"#46039f\"], [0.2222222222222222, \"#7201a8\"], [0.3333333333333333, \"#9c179e\"], [0.4444444444444444, \"#bd3786\"], [0.5555555555555556, \"#d8576b\"], [0.6666666666666666, \"#ed7953\"], [0.7777777777777778, \"#fb9f3a\"], [0.8888888888888888, \"#fdca26\"], [1.0, \"#f0f921\"]], \"type\": \"contour\"}], \"contourcarpet\": [{\"colorbar\": {\"outlinewidth\": 0, \"ticks\": \"\"}, \"type\": \"contourcarpet\"}], \"heatmap\": [{\"colorbar\": {\"outlinewidth\": 0, \"ticks\": \"\"}, \"colorscale\": [[0.0, \"#0d0887\"], [0.1111111111111111, \"#46039f\"], [0.2222222222222222, \"#7201a8\"], [0.3333333333333333, \"#9c179e\"], [0.4444444444444444, \"#bd3786\"], [0.5555555555555556, \"#d8576b\"], [0.6666666666666666, \"#ed7953\"], [0.7777777777777778, \"#fb9f3a\"], [0.8888888888888888, \"#fdca26\"], [1.0, \"#f0f921\"]], \"type\": \"heatmap\"}], \"heatmapgl\": [{\"colorbar\": {\"outlinewidth\": 0, \"ticks\": \"\"}, \"colorscale\": [[0.0, \"#0d0887\"], [0.1111111111111111, \"#46039f\"], [0.2222222222222222, \"#7201a8\"], [0.3333333333333333, \"#9c179e\"], [0.4444444444444444, \"#bd3786\"], [0.5555555555555556, \"#d8576b\"], [0.6666666666666666, \"#ed7953\"], [0.7777777777777778, \"#fb9f3a\"], [0.8888888888888888, \"#fdca26\"], [1.0, \"#f0f921\"]], \"type\": \"heatmapgl\"}], \"histogram\": [{\"marker\": {\"colorbar\": {\"outlinewidth\": 0, \"ticks\": \"\"}}, \"type\": \"histogram\"}], \"histogram2d\": [{\"colorbar\": {\"outlinewidth\": 0, \"ticks\": \"\"}, \"colorscale\": [[0.0, \"#0d0887\"], [0.1111111111111111, \"#46039f\"], [0.2222222222222222, \"#7201a8\"], [0.3333333333333333, \"#9c179e\"], [0.4444444444444444, \"#bd3786\"], [0.5555555555555556, \"#d8576b\"], [0.6666666666666666, \"#ed7953\"], [0.7777777777777778, \"#fb9f3a\"], [0.8888888888888888, \"#fdca26\"], [1.0, \"#f0f921\"]], \"type\": \"histogram2d\"}], \"histogram2dcontour\": [{\"colorbar\": {\"outlinewidth\": 0, \"ticks\": \"\"}, \"colorscale\": [[0.0, \"#0d0887\"], [0.1111111111111111, \"#46039f\"], [0.2222222222222222, \"#7201a8\"], [0.3333333333333333, \"#9c179e\"], [0.4444444444444444, \"#bd3786\"], [0.5555555555555556, \"#d8576b\"], [0.6666666666666666, \"#ed7953\"], [0.7777777777777778, \"#fb9f3a\"], [0.8888888888888888, \"#fdca26\"], [1.0, \"#f0f921\"]], \"type\": \"histogram2dcontour\"}], \"mesh3d\": [{\"colorbar\": {\"outlinewidth\": 0, \"ticks\": \"\"}, \"type\": \"mesh3d\"}], \"parcoords\": [{\"line\": {\"colorbar\": {\"outlinewidth\": 0, \"ticks\": \"\"}}, \"type\": \"parcoords\"}], \"pie\": [{\"automargin\": true, \"type\": \"pie\"}], \"scatter\": [{\"marker\": {\"colorbar\": {\"outlinewidth\": 0, \"ticks\": \"\"}}, \"type\": \"scatter\"}], \"scatter3d\": [{\"line\": {\"colorbar\": {\"outlinewidth\": 0, \"ticks\": \"\"}}, \"marker\": {\"colorbar\": {\"outlinewidth\": 0, \"ticks\": \"\"}}, \"type\": \"scatter3d\"}], \"scattercarpet\": [{\"marker\": {\"colorbar\": {\"outlinewidth\": 0, \"ticks\": \"\"}}, \"type\": \"scattercarpet\"}], \"scattergeo\": [{\"marker\": {\"colorbar\": {\"outlinewidth\": 0, \"ticks\": \"\"}}, \"type\": \"scattergeo\"}], \"scattergl\": [{\"marker\": {\"colorbar\": {\"outlinewidth\": 0, \"ticks\": \"\"}}, \"type\": \"scattergl\"}], \"scattermapbox\": [{\"marker\": {\"colorbar\": {\"outlinewidth\": 0, \"ticks\": \"\"}}, \"type\": \"scattermapbox\"}], \"scatterpolar\": [{\"marker\": {\"colorbar\": {\"outlinewidth\": 0, \"ticks\": \"\"}}, \"type\": \"scatterpolar\"}], \"scatterpolargl\": [{\"marker\": {\"colorbar\": {\"outlinewidth\": 0, \"ticks\": \"\"}}, \"type\": \"scatterpolargl\"}], \"scatterternary\": [{\"marker\": {\"colorbar\": {\"outlinewidth\": 0, \"ticks\": \"\"}}, \"type\": \"scatterternary\"}], \"surface\": [{\"colorbar\": {\"outlinewidth\": 0, \"ticks\": \"\"}, \"colorscale\": [[0.0, \"#0d0887\"], [0.1111111111111111, \"#46039f\"], [0.2222222222222222, \"#7201a8\"], [0.3333333333333333, \"#9c179e\"], [0.4444444444444444, \"#bd3786\"], [0.5555555555555556, \"#d8576b\"], [0.6666666666666666, \"#ed7953\"], [0.7777777777777778, \"#fb9f3a\"], [0.8888888888888888, \"#fdca26\"], [1.0, \"#f0f921\"]], \"type\": \"surface\"}], \"table\": [{\"cells\": {\"fill\": {\"color\": \"#EBF0F8\"}, \"line\": {\"color\": \"white\"}}, \"header\": {\"fill\": {\"color\": \"#C8D4E3\"}, \"line\": {\"color\": \"white\"}}, \"type\": \"table\"}]}, \"layout\": {\"annotationdefaults\": {\"arrowcolor\": \"#2a3f5f\", \"arrowhead\": 0, \"arrowwidth\": 1}, \"coloraxis\": {\"colorbar\": {\"outlinewidth\": 0, \"ticks\": \"\"}}, \"colorscale\": {\"diverging\": [[0, \"#8e0152\"], [0.1, \"#c51b7d\"], [0.2, \"#de77ae\"], [0.3, \"#f1b6da\"], [0.4, \"#fde0ef\"], [0.5, \"#f7f7f7\"], [0.6, \"#e6f5d0\"], [0.7, \"#b8e186\"], [0.8, \"#7fbc41\"], [0.9, \"#4d9221\"], [1, \"#276419\"]], \"sequential\": [[0.0, \"#0d0887\"], [0.1111111111111111, \"#46039f\"], [0.2222222222222222, \"#7201a8\"], [0.3333333333333333, \"#9c179e\"], [0.4444444444444444, \"#bd3786\"], [0.5555555555555556, \"#d8576b\"], [0.6666666666666666, \"#ed7953\"], [0.7777777777777778, \"#fb9f3a\"], [0.8888888888888888, \"#fdca26\"], [1.0, \"#f0f921\"]], \"sequentialminus\": [[0.0, \"#0d0887\"], [0.1111111111111111, \"#46039f\"], [0.2222222222222222, \"#7201a8\"], [0.3333333333333333, \"#9c179e\"], [0.4444444444444444, \"#bd3786\"], [0.5555555555555556, \"#d8576b\"], [0.6666666666666666, \"#ed7953\"], [0.7777777777777778, \"#fb9f3a\"], [0.8888888888888888, \"#fdca26\"], [1.0, \"#f0f921\"]]}, \"colorway\": [\"#636efa\", \"#EF553B\", \"#00cc96\", \"#ab63fa\", \"#FFA15A\", \"#19d3f3\", \"#FF6692\", \"#B6E880\", \"#FF97FF\", \"#FECB52\"], \"font\": {\"color\": \"#2a3f5f\"}, \"geo\": {\"bgcolor\": \"white\", \"lakecolor\": \"white\", \"landcolor\": \"#E5ECF6\", \"showlakes\": true, \"showland\": true, \"subunitcolor\": \"white\"}, \"hoverlabel\": {\"align\": \"left\"}, \"hovermode\": \"closest\", \"mapbox\": {\"style\": \"light\"}, \"paper_bgcolor\": \"white\", \"plot_bgcolor\": \"#E5ECF6\", \"polar\": {\"angularaxis\": {\"gridcolor\": \"white\", \"linecolor\": \"white\", \"ticks\": \"\"}, \"bgcolor\": \"#E5ECF6\", \"radialaxis\": {\"gridcolor\": \"white\", \"linecolor\": \"white\", \"ticks\": \"\"}}, \"scene\": {\"xaxis\": {\"backgroundcolor\": \"#E5ECF6\", \"gridcolor\": \"white\", \"gridwidth\": 2, \"linecolor\": \"white\", \"showbackground\": true, \"ticks\": \"\", \"zerolinecolor\": \"white\"}, \"yaxis\": {\"backgroundcolor\": \"#E5ECF6\", \"gridcolor\": \"white\", \"gridwidth\": 2, \"linecolor\": \"white\", \"showbackground\": true, \"ticks\": \"\", \"zerolinecolor\": \"white\"}, \"zaxis\": {\"backgroundcolor\": \"#E5ECF6\", \"gridcolor\": \"white\", \"gridwidth\": 2, \"linecolor\": \"white\", \"showbackground\": true, \"ticks\": \"\", \"zerolinecolor\": \"white\"}}, \"shapedefaults\": {\"line\": {\"color\": \"#2a3f5f\"}}, \"ternary\": {\"aaxis\": {\"gridcolor\": \"white\", \"linecolor\": \"white\", \"ticks\": \"\"}, \"baxis\": {\"gridcolor\": \"white\", \"linecolor\": \"white\", \"ticks\": \"\"}, \"bgcolor\": \"#E5ECF6\", \"caxis\": {\"gridcolor\": \"white\", \"linecolor\": \"white\", \"ticks\": \"\"}}, \"title\": {\"x\": 0.05}, \"xaxis\": {\"automargin\": true, \"gridcolor\": \"white\", \"linecolor\": \"white\", \"ticks\": \"\", \"title\": {\"standoff\": 15}, \"zerolinecolor\": \"white\", \"zerolinewidth\": 2}, \"yaxis\": {\"automargin\": true, \"gridcolor\": \"white\", \"linecolor\": \"white\", \"ticks\": \"\", \"title\": {\"standoff\": 15}, \"zerolinecolor\": \"white\", \"zerolinewidth\": 2}}}, \"title\": {\"text\": \"Unique categories - Train Data Set!\"}},\n",
       "                        {\"responsive\": true}\n",
       "                    ).then(function(){\n",
       "                            \n",
       "var gd = document.getElementById('876d28d0-8b0a-4f86-863c-c7596ae1f96e');\n",
       "var x = new MutationObserver(function (mutations, observer) {{\n",
       "        var display = window.getComputedStyle(gd).display;\n",
       "        if (!display || display === 'none') {{\n",
       "            console.log([gd, 'removed!']);\n",
       "            Plotly.purge(gd);\n",
       "            observer.disconnect();\n",
       "        }}\n",
       "}});\n",
       "\n",
       "// Listen for the removal of the full notebook cells\n",
       "var notebookContainer = gd.closest('#notebook-container');\n",
       "if (notebookContainer) {{\n",
       "    x.observe(notebookContainer, {childList: true});\n",
       "}}\n",
       "\n",
       "// Listen for the clearing of the current output cell\n",
       "var outputEl = gd.closest('.output');\n",
       "if (outputEl) {{\n",
       "    x.observe(outputEl, {childList: true});\n",
       "}}\n",
       "\n",
       "                        })\n",
       "                };\n",
       "                });\n",
       "            </script>\n",
       "        </div>"
      ]
     },
     "metadata": {},
     "output_type": "display_data"
    }
   ],
   "source": [
    "unique = pandas.DataFrame([(col,x[col].nunique()) for col in x.columns], \n",
    "                           columns=['Columns', 'Count of Category'])\n",
    "colors = ['lightslategray'] \n",
    "\n",
    "fig = plotly.graph_objects.Figure([go.Bar(x=unique.Columns, y = unique['Count of Category'], text=unique['Count of Category'],textposition='auto',  marker_color=colors)])\n",
    "fig.update_layout(title_text='Unique categories - Train Data Set!')\n",
    "fig.show()"
   ]
  },
  {
   "cell_type": "code",
   "execution_count": 47,
   "metadata": {},
   "outputs": [],
   "source": [
    "a = fig.to_json()\n",
    "z = json.dumps(a,cls = plotly.utils.PlotlyJSONEncoder)"
   ]
  },
  {
   "cell_type": "markdown",
   "metadata": {},
   "source": [
    "# Drop Duplicate Columns"
   ]
  },
  {
   "cell_type": "code",
   "execution_count": 61,
   "metadata": {},
   "outputs": [
    {
     "name": "stdout",
     "output_type": "stream",
     "text": [
      "ROLE_CODE ROLE_TITLE 343 343\n"
     ]
    }
   ],
   "source": [
    "import itertools\n",
    "target = \"ACTION\"\n",
    "col4train = [val for val in train.columns if val!=target]\n",
    "\n",
    "col1 = 'ROLE_CODE'\n",
    "col2 = 'ROLE_TITLE'\n",
    "\n",
    "pair = len(train.groupby([col1,col2]).size())\n",
    "single = len(train.groupby([col1]).size())\n",
    "\n",
    "print(col1, col2, pair, single)\n",
    "\n"
   ]
  },
  {
   "cell_type": "code",
   "execution_count": 64,
   "metadata": {},
   "outputs": [
    {
     "data": {
      "text/plain": [
       "22533.014627093282"
      ]
     },
     "execution_count": 64,
     "metadata": {},
     "output_type": "execute_result"
    }
   ],
   "source": [
    "s = pandas.concat([x.ROLE_CODE, x.ROLE_TITLE])\n",
    "\n",
    "s.std()\n"
   ]
  },
  {
   "cell_type": "code",
   "execution_count": 72,
   "metadata": {},
   "outputs": [
    {
     "data": {
      "text/html": [
       "<div>\n",
       "<style scoped>\n",
       "    .dataframe tbody tr th:only-of-type {\n",
       "        vertical-align: middle;\n",
       "    }\n",
       "\n",
       "    .dataframe tbody tr th {\n",
       "        vertical-align: top;\n",
       "    }\n",
       "\n",
       "    .dataframe thead th {\n",
       "        text-align: right;\n",
       "    }\n",
       "</style>\n",
       "<table border=\"1\" class=\"dataframe\">\n",
       "  <thead>\n",
       "    <tr style=\"text-align: right;\">\n",
       "      <th></th>\n",
       "      <th>ACTION</th>\n",
       "      <th>RESOURCE</th>\n",
       "      <th>MGR_ID</th>\n",
       "      <th>ROLE_ROLLUP_1</th>\n",
       "      <th>ROLE_ROLLUP_2</th>\n",
       "      <th>ROLE_DEPTNAME</th>\n",
       "      <th>ROLE_TITLE</th>\n",
       "      <th>ROLE_FAMILY_DESC</th>\n",
       "      <th>ROLE_FAMILY</th>\n",
       "      <th>ROLE_CODE</th>\n",
       "    </tr>\n",
       "  </thead>\n",
       "  <tbody>\n",
       "    <tr>\n",
       "      <th>0</th>\n",
       "      <td>1</td>\n",
       "      <td>39353</td>\n",
       "      <td>85475</td>\n",
       "      <td>117961</td>\n",
       "      <td>118300</td>\n",
       "      <td>123472</td>\n",
       "      <td>117905</td>\n",
       "      <td>117906</td>\n",
       "      <td>290919</td>\n",
       "      <td>117908</td>\n",
       "    </tr>\n",
       "    <tr>\n",
       "      <th>1</th>\n",
       "      <td>1</td>\n",
       "      <td>17183</td>\n",
       "      <td>1540</td>\n",
       "      <td>117961</td>\n",
       "      <td>118343</td>\n",
       "      <td>123125</td>\n",
       "      <td>118536</td>\n",
       "      <td>118536</td>\n",
       "      <td>308574</td>\n",
       "      <td>118539</td>\n",
       "    </tr>\n",
       "    <tr>\n",
       "      <th>2</th>\n",
       "      <td>1</td>\n",
       "      <td>36724</td>\n",
       "      <td>14457</td>\n",
       "      <td>118219</td>\n",
       "      <td>118220</td>\n",
       "      <td>117884</td>\n",
       "      <td>117879</td>\n",
       "      <td>267952</td>\n",
       "      <td>19721</td>\n",
       "      <td>117880</td>\n",
       "    </tr>\n",
       "    <tr>\n",
       "      <th>3</th>\n",
       "      <td>1</td>\n",
       "      <td>36135</td>\n",
       "      <td>5396</td>\n",
       "      <td>117961</td>\n",
       "      <td>118343</td>\n",
       "      <td>119993</td>\n",
       "      <td>118321</td>\n",
       "      <td>240983</td>\n",
       "      <td>290919</td>\n",
       "      <td>118322</td>\n",
       "    </tr>\n",
       "    <tr>\n",
       "      <th>4</th>\n",
       "      <td>1</td>\n",
       "      <td>42680</td>\n",
       "      <td>5905</td>\n",
       "      <td>117929</td>\n",
       "      <td>117930</td>\n",
       "      <td>119569</td>\n",
       "      <td>119323</td>\n",
       "      <td>123932</td>\n",
       "      <td>19793</td>\n",
       "      <td>119325</td>\n",
       "    </tr>\n",
       "    <tr>\n",
       "      <th>5</th>\n",
       "      <td>0</td>\n",
       "      <td>45333</td>\n",
       "      <td>14561</td>\n",
       "      <td>117951</td>\n",
       "      <td>117952</td>\n",
       "      <td>118008</td>\n",
       "      <td>118568</td>\n",
       "      <td>118568</td>\n",
       "      <td>19721</td>\n",
       "      <td>118570</td>\n",
       "    </tr>\n",
       "    <tr>\n",
       "      <th>6</th>\n",
       "      <td>1</td>\n",
       "      <td>25993</td>\n",
       "      <td>17227</td>\n",
       "      <td>117961</td>\n",
       "      <td>118343</td>\n",
       "      <td>123476</td>\n",
       "      <td>118980</td>\n",
       "      <td>301534</td>\n",
       "      <td>118295</td>\n",
       "      <td>118982</td>\n",
       "    </tr>\n",
       "    <tr>\n",
       "      <th>7</th>\n",
       "      <td>1</td>\n",
       "      <td>19666</td>\n",
       "      <td>4209</td>\n",
       "      <td>117961</td>\n",
       "      <td>117969</td>\n",
       "      <td>118910</td>\n",
       "      <td>126820</td>\n",
       "      <td>269034</td>\n",
       "      <td>118638</td>\n",
       "      <td>126822</td>\n",
       "    </tr>\n",
       "    <tr>\n",
       "      <th>8</th>\n",
       "      <td>1</td>\n",
       "      <td>31246</td>\n",
       "      <td>783</td>\n",
       "      <td>117961</td>\n",
       "      <td>118413</td>\n",
       "      <td>120584</td>\n",
       "      <td>128230</td>\n",
       "      <td>302830</td>\n",
       "      <td>4673</td>\n",
       "      <td>128231</td>\n",
       "    </tr>\n",
       "    <tr>\n",
       "      <th>9</th>\n",
       "      <td>1</td>\n",
       "      <td>78766</td>\n",
       "      <td>56683</td>\n",
       "      <td>118079</td>\n",
       "      <td>118080</td>\n",
       "      <td>117878</td>\n",
       "      <td>117879</td>\n",
       "      <td>304519</td>\n",
       "      <td>19721</td>\n",
       "      <td>117880</td>\n",
       "    </tr>\n",
       "    <tr>\n",
       "      <th>10</th>\n",
       "      <td>1</td>\n",
       "      <td>4675</td>\n",
       "      <td>3005</td>\n",
       "      <td>117961</td>\n",
       "      <td>118413</td>\n",
       "      <td>118481</td>\n",
       "      <td>118784</td>\n",
       "      <td>117906</td>\n",
       "      <td>290919</td>\n",
       "      <td>118786</td>\n",
       "    </tr>\n",
       "    <tr>\n",
       "      <th>11</th>\n",
       "      <td>1</td>\n",
       "      <td>15030</td>\n",
       "      <td>94005</td>\n",
       "      <td>117902</td>\n",
       "      <td>118041</td>\n",
       "      <td>119238</td>\n",
       "      <td>119093</td>\n",
       "      <td>138522</td>\n",
       "      <td>119095</td>\n",
       "      <td>119096</td>\n",
       "    </tr>\n",
       "    <tr>\n",
       "      <th>12</th>\n",
       "      <td>1</td>\n",
       "      <td>79954</td>\n",
       "      <td>46608</td>\n",
       "      <td>118315</td>\n",
       "      <td>118463</td>\n",
       "      <td>122636</td>\n",
       "      <td>120773</td>\n",
       "      <td>123148</td>\n",
       "      <td>118960</td>\n",
       "      <td>120774</td>\n",
       "    </tr>\n",
       "    <tr>\n",
       "      <th>13</th>\n",
       "      <td>1</td>\n",
       "      <td>4675</td>\n",
       "      <td>50997</td>\n",
       "      <td>91261</td>\n",
       "      <td>118026</td>\n",
       "      <td>118202</td>\n",
       "      <td>119962</td>\n",
       "      <td>168365</td>\n",
       "      <td>118205</td>\n",
       "      <td>119964</td>\n",
       "    </tr>\n",
       "    <tr>\n",
       "      <th>14</th>\n",
       "      <td>1</td>\n",
       "      <td>95836</td>\n",
       "      <td>18181</td>\n",
       "      <td>117961</td>\n",
       "      <td>118343</td>\n",
       "      <td>118514</td>\n",
       "      <td>118321</td>\n",
       "      <td>117906</td>\n",
       "      <td>290919</td>\n",
       "      <td>118322</td>\n",
       "    </tr>\n",
       "    <tr>\n",
       "      <th>15</th>\n",
       "      <td>1</td>\n",
       "      <td>19484</td>\n",
       "      <td>6657</td>\n",
       "      <td>118219</td>\n",
       "      <td>118220</td>\n",
       "      <td>118221</td>\n",
       "      <td>117885</td>\n",
       "      <td>117886</td>\n",
       "      <td>117887</td>\n",
       "      <td>117888</td>\n",
       "    </tr>\n",
       "    <tr>\n",
       "      <th>16</th>\n",
       "      <td>1</td>\n",
       "      <td>114267</td>\n",
       "      <td>23136</td>\n",
       "      <td>117961</td>\n",
       "      <td>118052</td>\n",
       "      <td>119742</td>\n",
       "      <td>118321</td>\n",
       "      <td>117906</td>\n",
       "      <td>290919</td>\n",
       "      <td>118322</td>\n",
       "    </tr>\n",
       "    <tr>\n",
       "      <th>17</th>\n",
       "      <td>1</td>\n",
       "      <td>35197</td>\n",
       "      <td>57715</td>\n",
       "      <td>117961</td>\n",
       "      <td>118446</td>\n",
       "      <td>118701</td>\n",
       "      <td>118702</td>\n",
       "      <td>118703</td>\n",
       "      <td>118704</td>\n",
       "      <td>118705</td>\n",
       "    </tr>\n",
       "    <tr>\n",
       "      <th>18</th>\n",
       "      <td>1</td>\n",
       "      <td>86316</td>\n",
       "      <td>7002</td>\n",
       "      <td>117961</td>\n",
       "      <td>118343</td>\n",
       "      <td>123125</td>\n",
       "      <td>118278</td>\n",
       "      <td>132715</td>\n",
       "      <td>290919</td>\n",
       "      <td>118279</td>\n",
       "    </tr>\n",
       "    <tr>\n",
       "      <th>19</th>\n",
       "      <td>1</td>\n",
       "      <td>27785</td>\n",
       "      <td>5636</td>\n",
       "      <td>117961</td>\n",
       "      <td>118413</td>\n",
       "      <td>122007</td>\n",
       "      <td>118321</td>\n",
       "      <td>117906</td>\n",
       "      <td>290919</td>\n",
       "      <td>118322</td>\n",
       "    </tr>\n",
       "    <tr>\n",
       "      <th>20</th>\n",
       "      <td>1</td>\n",
       "      <td>37427</td>\n",
       "      <td>5220</td>\n",
       "      <td>117961</td>\n",
       "      <td>118300</td>\n",
       "      <td>118458</td>\n",
       "      <td>120006</td>\n",
       "      <td>303717</td>\n",
       "      <td>118424</td>\n",
       "      <td>120008</td>\n",
       "    </tr>\n",
       "    <tr>\n",
       "      <th>21</th>\n",
       "      <td>1</td>\n",
       "      <td>15672</td>\n",
       "      <td>111936</td>\n",
       "      <td>117961</td>\n",
       "      <td>118300</td>\n",
       "      <td>118783</td>\n",
       "      <td>117905</td>\n",
       "      <td>240983</td>\n",
       "      <td>290919</td>\n",
       "      <td>117908</td>\n",
       "    </tr>\n",
       "    <tr>\n",
       "      <th>22</th>\n",
       "      <td>1</td>\n",
       "      <td>92885</td>\n",
       "      <td>744</td>\n",
       "      <td>117961</td>\n",
       "      <td>118300</td>\n",
       "      <td>119181</td>\n",
       "      <td>118777</td>\n",
       "      <td>279443</td>\n",
       "      <td>308574</td>\n",
       "      <td>118779</td>\n",
       "    </tr>\n",
       "    <tr>\n",
       "      <th>23</th>\n",
       "      <td>1</td>\n",
       "      <td>1020</td>\n",
       "      <td>85475</td>\n",
       "      <td>117961</td>\n",
       "      <td>118300</td>\n",
       "      <td>120410</td>\n",
       "      <td>118321</td>\n",
       "      <td>117906</td>\n",
       "      <td>290919</td>\n",
       "      <td>118322</td>\n",
       "    </tr>\n",
       "    <tr>\n",
       "      <th>24</th>\n",
       "      <td>1</td>\n",
       "      <td>4675</td>\n",
       "      <td>7551</td>\n",
       "      <td>117961</td>\n",
       "      <td>118052</td>\n",
       "      <td>118867</td>\n",
       "      <td>118259</td>\n",
       "      <td>117906</td>\n",
       "      <td>290919</td>\n",
       "      <td>118261</td>\n",
       "    </tr>\n",
       "    <tr>\n",
       "      <th>25</th>\n",
       "      <td>1</td>\n",
       "      <td>41334</td>\n",
       "      <td>28253</td>\n",
       "      <td>118315</td>\n",
       "      <td>118463</td>\n",
       "      <td>123089</td>\n",
       "      <td>118259</td>\n",
       "      <td>128796</td>\n",
       "      <td>290919</td>\n",
       "      <td>118261</td>\n",
       "    </tr>\n",
       "    <tr>\n",
       "      <th>26</th>\n",
       "      <td>1</td>\n",
       "      <td>77385</td>\n",
       "      <td>14829</td>\n",
       "      <td>117961</td>\n",
       "      <td>118052</td>\n",
       "      <td>119986</td>\n",
       "      <td>117905</td>\n",
       "      <td>117906</td>\n",
       "      <td>290919</td>\n",
       "      <td>117908</td>\n",
       "    </tr>\n",
       "    <tr>\n",
       "      <th>27</th>\n",
       "      <td>1</td>\n",
       "      <td>20273</td>\n",
       "      <td>11506</td>\n",
       "      <td>118216</td>\n",
       "      <td>118587</td>\n",
       "      <td>118846</td>\n",
       "      <td>179731</td>\n",
       "      <td>128361</td>\n",
       "      <td>117887</td>\n",
       "      <td>117973</td>\n",
       "    </tr>\n",
       "    <tr>\n",
       "      <th>28</th>\n",
       "      <td>1</td>\n",
       "      <td>78098</td>\n",
       "      <td>46556</td>\n",
       "      <td>118090</td>\n",
       "      <td>118091</td>\n",
       "      <td>117884</td>\n",
       "      <td>118568</td>\n",
       "      <td>165015</td>\n",
       "      <td>19721</td>\n",
       "      <td>118570</td>\n",
       "    </tr>\n",
       "    <tr>\n",
       "      <th>29</th>\n",
       "      <td>1</td>\n",
       "      <td>79328</td>\n",
       "      <td>4219</td>\n",
       "      <td>117961</td>\n",
       "      <td>118300</td>\n",
       "      <td>120312</td>\n",
       "      <td>120313</td>\n",
       "      <td>144958</td>\n",
       "      <td>118424</td>\n",
       "      <td>120315</td>\n",
       "    </tr>\n",
       "    <tr>\n",
       "      <th>...</th>\n",
       "      <td>...</td>\n",
       "      <td>...</td>\n",
       "      <td>...</td>\n",
       "      <td>...</td>\n",
       "      <td>...</td>\n",
       "      <td>...</td>\n",
       "      <td>...</td>\n",
       "      <td>...</td>\n",
       "      <td>...</td>\n",
       "      <td>...</td>\n",
       "    </tr>\n",
       "    <tr>\n",
       "      <th>32739</th>\n",
       "      <td>1</td>\n",
       "      <td>20293</td>\n",
       "      <td>27915</td>\n",
       "      <td>117926</td>\n",
       "      <td>117927</td>\n",
       "      <td>117920</td>\n",
       "      <td>118568</td>\n",
       "      <td>281735</td>\n",
       "      <td>19721</td>\n",
       "      <td>118570</td>\n",
       "    </tr>\n",
       "    <tr>\n",
       "      <th>32740</th>\n",
       "      <td>1</td>\n",
       "      <td>40867</td>\n",
       "      <td>3197</td>\n",
       "      <td>117961</td>\n",
       "      <td>118386</td>\n",
       "      <td>120361</td>\n",
       "      <td>117905</td>\n",
       "      <td>117906</td>\n",
       "      <td>290919</td>\n",
       "      <td>117908</td>\n",
       "    </tr>\n",
       "    <tr>\n",
       "      <th>32741</th>\n",
       "      <td>1</td>\n",
       "      <td>22402</td>\n",
       "      <td>6199</td>\n",
       "      <td>117961</td>\n",
       "      <td>118225</td>\n",
       "      <td>120663</td>\n",
       "      <td>118321</td>\n",
       "      <td>117906</td>\n",
       "      <td>290919</td>\n",
       "      <td>118322</td>\n",
       "    </tr>\n",
       "    <tr>\n",
       "      <th>32742</th>\n",
       "      <td>1</td>\n",
       "      <td>73581</td>\n",
       "      <td>2229</td>\n",
       "      <td>117961</td>\n",
       "      <td>118300</td>\n",
       "      <td>118450</td>\n",
       "      <td>119192</td>\n",
       "      <td>135136</td>\n",
       "      <td>119184</td>\n",
       "      <td>119194</td>\n",
       "    </tr>\n",
       "    <tr>\n",
       "      <th>32743</th>\n",
       "      <td>1</td>\n",
       "      <td>31639</td>\n",
       "      <td>50976</td>\n",
       "      <td>117961</td>\n",
       "      <td>118413</td>\n",
       "      <td>119968</td>\n",
       "      <td>117905</td>\n",
       "      <td>117906</td>\n",
       "      <td>290919</td>\n",
       "      <td>117908</td>\n",
       "    </tr>\n",
       "    <tr>\n",
       "      <th>32744</th>\n",
       "      <td>1</td>\n",
       "      <td>42093</td>\n",
       "      <td>5396</td>\n",
       "      <td>117961</td>\n",
       "      <td>118343</td>\n",
       "      <td>119993</td>\n",
       "      <td>118321</td>\n",
       "      <td>117906</td>\n",
       "      <td>290919</td>\n",
       "      <td>118322</td>\n",
       "    </tr>\n",
       "    <tr>\n",
       "      <th>32745</th>\n",
       "      <td>1</td>\n",
       "      <td>5491</td>\n",
       "      <td>27394</td>\n",
       "      <td>117961</td>\n",
       "      <td>118343</td>\n",
       "      <td>119142</td>\n",
       "      <td>118685</td>\n",
       "      <td>152298</td>\n",
       "      <td>308574</td>\n",
       "      <td>118687</td>\n",
       "    </tr>\n",
       "    <tr>\n",
       "      <th>32746</th>\n",
       "      <td>1</td>\n",
       "      <td>27133</td>\n",
       "      <td>2610</td>\n",
       "      <td>117961</td>\n",
       "      <td>118327</td>\n",
       "      <td>121979</td>\n",
       "      <td>118321</td>\n",
       "      <td>117906</td>\n",
       "      <td>290919</td>\n",
       "      <td>118322</td>\n",
       "    </tr>\n",
       "    <tr>\n",
       "      <th>32747</th>\n",
       "      <td>1</td>\n",
       "      <td>27785</td>\n",
       "      <td>4871</td>\n",
       "      <td>117961</td>\n",
       "      <td>118300</td>\n",
       "      <td>125872</td>\n",
       "      <td>120006</td>\n",
       "      <td>159698</td>\n",
       "      <td>118424</td>\n",
       "      <td>120008</td>\n",
       "    </tr>\n",
       "    <tr>\n",
       "      <th>32748</th>\n",
       "      <td>1</td>\n",
       "      <td>80247</td>\n",
       "      <td>2299</td>\n",
       "      <td>117961</td>\n",
       "      <td>117962</td>\n",
       "      <td>119223</td>\n",
       "      <td>120516</td>\n",
       "      <td>146694</td>\n",
       "      <td>120518</td>\n",
       "      <td>120519</td>\n",
       "    </tr>\n",
       "    <tr>\n",
       "      <th>32749</th>\n",
       "      <td>1</td>\n",
       "      <td>75915</td>\n",
       "      <td>1728</td>\n",
       "      <td>117961</td>\n",
       "      <td>118327</td>\n",
       "      <td>118507</td>\n",
       "      <td>121527</td>\n",
       "      <td>128634</td>\n",
       "      <td>118398</td>\n",
       "      <td>121529</td>\n",
       "    </tr>\n",
       "    <tr>\n",
       "      <th>32750</th>\n",
       "      <td>1</td>\n",
       "      <td>77178</td>\n",
       "      <td>3225</td>\n",
       "      <td>117961</td>\n",
       "      <td>118327</td>\n",
       "      <td>118929</td>\n",
       "      <td>118784</td>\n",
       "      <td>126514</td>\n",
       "      <td>290919</td>\n",
       "      <td>118786</td>\n",
       "    </tr>\n",
       "    <tr>\n",
       "      <th>32751</th>\n",
       "      <td>1</td>\n",
       "      <td>16442</td>\n",
       "      <td>4659</td>\n",
       "      <td>117961</td>\n",
       "      <td>118225</td>\n",
       "      <td>120663</td>\n",
       "      <td>118321</td>\n",
       "      <td>117906</td>\n",
       "      <td>290919</td>\n",
       "      <td>118322</td>\n",
       "    </tr>\n",
       "    <tr>\n",
       "      <th>32752</th>\n",
       "      <td>1</td>\n",
       "      <td>32529</td>\n",
       "      <td>22355</td>\n",
       "      <td>118120</td>\n",
       "      <td>118121</td>\n",
       "      <td>117920</td>\n",
       "      <td>121067</td>\n",
       "      <td>229187</td>\n",
       "      <td>121069</td>\n",
       "      <td>121070</td>\n",
       "    </tr>\n",
       "    <tr>\n",
       "      <th>32753</th>\n",
       "      <td>1</td>\n",
       "      <td>23096</td>\n",
       "      <td>53282</td>\n",
       "      <td>118290</td>\n",
       "      <td>118291</td>\n",
       "      <td>120211</td>\n",
       "      <td>117985</td>\n",
       "      <td>121679</td>\n",
       "      <td>19793</td>\n",
       "      <td>117987</td>\n",
       "    </tr>\n",
       "    <tr>\n",
       "      <th>32754</th>\n",
       "      <td>1</td>\n",
       "      <td>52684</td>\n",
       "      <td>59712</td>\n",
       "      <td>117916</td>\n",
       "      <td>118150</td>\n",
       "      <td>117884</td>\n",
       "      <td>117885</td>\n",
       "      <td>117913</td>\n",
       "      <td>117887</td>\n",
       "      <td>117888</td>\n",
       "    </tr>\n",
       "    <tr>\n",
       "      <th>32755</th>\n",
       "      <td>1</td>\n",
       "      <td>42085</td>\n",
       "      <td>54618</td>\n",
       "      <td>117961</td>\n",
       "      <td>118052</td>\n",
       "      <td>118821</td>\n",
       "      <td>117905</td>\n",
       "      <td>240983</td>\n",
       "      <td>290919</td>\n",
       "      <td>117908</td>\n",
       "    </tr>\n",
       "    <tr>\n",
       "      <th>32756</th>\n",
       "      <td>1</td>\n",
       "      <td>79969</td>\n",
       "      <td>3221</td>\n",
       "      <td>120342</td>\n",
       "      <td>120343</td>\n",
       "      <td>124133</td>\n",
       "      <td>118728</td>\n",
       "      <td>244948</td>\n",
       "      <td>118295</td>\n",
       "      <td>118730</td>\n",
       "    </tr>\n",
       "    <tr>\n",
       "      <th>32757</th>\n",
       "      <td>1</td>\n",
       "      <td>16639</td>\n",
       "      <td>4945</td>\n",
       "      <td>117961</td>\n",
       "      <td>118300</td>\n",
       "      <td>118360</td>\n",
       "      <td>118129</td>\n",
       "      <td>122064</td>\n",
       "      <td>118131</td>\n",
       "      <td>118132</td>\n",
       "    </tr>\n",
       "    <tr>\n",
       "      <th>32758</th>\n",
       "      <td>1</td>\n",
       "      <td>33118</td>\n",
       "      <td>5423</td>\n",
       "      <td>117961</td>\n",
       "      <td>118327</td>\n",
       "      <td>118391</td>\n",
       "      <td>123045</td>\n",
       "      <td>123107</td>\n",
       "      <td>120518</td>\n",
       "      <td>123047</td>\n",
       "    </tr>\n",
       "    <tr>\n",
       "      <th>32759</th>\n",
       "      <td>1</td>\n",
       "      <td>15679</td>\n",
       "      <td>46503</td>\n",
       "      <td>120140</td>\n",
       "      <td>120141</td>\n",
       "      <td>121589</td>\n",
       "      <td>120952</td>\n",
       "      <td>120953</td>\n",
       "      <td>118453</td>\n",
       "      <td>120954</td>\n",
       "    </tr>\n",
       "    <tr>\n",
       "      <th>32760</th>\n",
       "      <td>1</td>\n",
       "      <td>17308</td>\n",
       "      <td>1550</td>\n",
       "      <td>117961</td>\n",
       "      <td>118225</td>\n",
       "      <td>123173</td>\n",
       "      <td>119093</td>\n",
       "      <td>123174</td>\n",
       "      <td>119095</td>\n",
       "      <td>119096</td>\n",
       "    </tr>\n",
       "    <tr>\n",
       "      <th>32761</th>\n",
       "      <td>1</td>\n",
       "      <td>16354</td>\n",
       "      <td>25618</td>\n",
       "      <td>117961</td>\n",
       "      <td>118327</td>\n",
       "      <td>118320</td>\n",
       "      <td>122060</td>\n",
       "      <td>122060</td>\n",
       "      <td>290919</td>\n",
       "      <td>122062</td>\n",
       "    </tr>\n",
       "    <tr>\n",
       "      <th>32762</th>\n",
       "      <td>1</td>\n",
       "      <td>6921</td>\n",
       "      <td>3954</td>\n",
       "      <td>117961</td>\n",
       "      <td>118343</td>\n",
       "      <td>120291</td>\n",
       "      <td>118422</td>\n",
       "      <td>300136</td>\n",
       "      <td>118424</td>\n",
       "      <td>118425</td>\n",
       "    </tr>\n",
       "    <tr>\n",
       "      <th>32763</th>\n",
       "      <td>1</td>\n",
       "      <td>32147</td>\n",
       "      <td>3883</td>\n",
       "      <td>117961</td>\n",
       "      <td>118343</td>\n",
       "      <td>119987</td>\n",
       "      <td>118784</td>\n",
       "      <td>118785</td>\n",
       "      <td>290919</td>\n",
       "      <td>118786</td>\n",
       "    </tr>\n",
       "    <tr>\n",
       "      <th>32764</th>\n",
       "      <td>1</td>\n",
       "      <td>23497</td>\n",
       "      <td>16971</td>\n",
       "      <td>117961</td>\n",
       "      <td>118300</td>\n",
       "      <td>119993</td>\n",
       "      <td>118321</td>\n",
       "      <td>240983</td>\n",
       "      <td>290919</td>\n",
       "      <td>118322</td>\n",
       "    </tr>\n",
       "    <tr>\n",
       "      <th>32765</th>\n",
       "      <td>1</td>\n",
       "      <td>25139</td>\n",
       "      <td>311198</td>\n",
       "      <td>91261</td>\n",
       "      <td>118026</td>\n",
       "      <td>122392</td>\n",
       "      <td>121143</td>\n",
       "      <td>173805</td>\n",
       "      <td>249618</td>\n",
       "      <td>121145</td>\n",
       "    </tr>\n",
       "    <tr>\n",
       "      <th>32766</th>\n",
       "      <td>1</td>\n",
       "      <td>34924</td>\n",
       "      <td>28805</td>\n",
       "      <td>117961</td>\n",
       "      <td>118327</td>\n",
       "      <td>120299</td>\n",
       "      <td>124922</td>\n",
       "      <td>152038</td>\n",
       "      <td>118612</td>\n",
       "      <td>124924</td>\n",
       "    </tr>\n",
       "    <tr>\n",
       "      <th>32767</th>\n",
       "      <td>1</td>\n",
       "      <td>80574</td>\n",
       "      <td>55643</td>\n",
       "      <td>118256</td>\n",
       "      <td>118257</td>\n",
       "      <td>117945</td>\n",
       "      <td>280788</td>\n",
       "      <td>280788</td>\n",
       "      <td>292795</td>\n",
       "      <td>119082</td>\n",
       "    </tr>\n",
       "    <tr>\n",
       "      <th>32768</th>\n",
       "      <td>1</td>\n",
       "      <td>14354</td>\n",
       "      <td>59575</td>\n",
       "      <td>117916</td>\n",
       "      <td>118150</td>\n",
       "      <td>117920</td>\n",
       "      <td>118568</td>\n",
       "      <td>122142</td>\n",
       "      <td>19721</td>\n",
       "      <td>118570</td>\n",
       "    </tr>\n",
       "  </tbody>\n",
       "</table>\n",
       "<p>32769 rows × 10 columns</p>\n",
       "</div>"
      ],
      "text/plain": [
       "       ACTION  RESOURCE  MGR_ID  ROLE_ROLLUP_1  ROLE_ROLLUP_2  ROLE_DEPTNAME  \\\n",
       "0           1     39353   85475         117961         118300         123472   \n",
       "1           1     17183    1540         117961         118343         123125   \n",
       "2           1     36724   14457         118219         118220         117884   \n",
       "3           1     36135    5396         117961         118343         119993   \n",
       "4           1     42680    5905         117929         117930         119569   \n",
       "5           0     45333   14561         117951         117952         118008   \n",
       "6           1     25993   17227         117961         118343         123476   \n",
       "7           1     19666    4209         117961         117969         118910   \n",
       "8           1     31246     783         117961         118413         120584   \n",
       "9           1     78766   56683         118079         118080         117878   \n",
       "10          1      4675    3005         117961         118413         118481   \n",
       "11          1     15030   94005         117902         118041         119238   \n",
       "12          1     79954   46608         118315         118463         122636   \n",
       "13          1      4675   50997          91261         118026         118202   \n",
       "14          1     95836   18181         117961         118343         118514   \n",
       "15          1     19484    6657         118219         118220         118221   \n",
       "16          1    114267   23136         117961         118052         119742   \n",
       "17          1     35197   57715         117961         118446         118701   \n",
       "18          1     86316    7002         117961         118343         123125   \n",
       "19          1     27785    5636         117961         118413         122007   \n",
       "20          1     37427    5220         117961         118300         118458   \n",
       "21          1     15672  111936         117961         118300         118783   \n",
       "22          1     92885     744         117961         118300         119181   \n",
       "23          1      1020   85475         117961         118300         120410   \n",
       "24          1      4675    7551         117961         118052         118867   \n",
       "25          1     41334   28253         118315         118463         123089   \n",
       "26          1     77385   14829         117961         118052         119986   \n",
       "27          1     20273   11506         118216         118587         118846   \n",
       "28          1     78098   46556         118090         118091         117884   \n",
       "29          1     79328    4219         117961         118300         120312   \n",
       "...       ...       ...     ...            ...            ...            ...   \n",
       "32739       1     20293   27915         117926         117927         117920   \n",
       "32740       1     40867    3197         117961         118386         120361   \n",
       "32741       1     22402    6199         117961         118225         120663   \n",
       "32742       1     73581    2229         117961         118300         118450   \n",
       "32743       1     31639   50976         117961         118413         119968   \n",
       "32744       1     42093    5396         117961         118343         119993   \n",
       "32745       1      5491   27394         117961         118343         119142   \n",
       "32746       1     27133    2610         117961         118327         121979   \n",
       "32747       1     27785    4871         117961         118300         125872   \n",
       "32748       1     80247    2299         117961         117962         119223   \n",
       "32749       1     75915    1728         117961         118327         118507   \n",
       "32750       1     77178    3225         117961         118327         118929   \n",
       "32751       1     16442    4659         117961         118225         120663   \n",
       "32752       1     32529   22355         118120         118121         117920   \n",
       "32753       1     23096   53282         118290         118291         120211   \n",
       "32754       1     52684   59712         117916         118150         117884   \n",
       "32755       1     42085   54618         117961         118052         118821   \n",
       "32756       1     79969    3221         120342         120343         124133   \n",
       "32757       1     16639    4945         117961         118300         118360   \n",
       "32758       1     33118    5423         117961         118327         118391   \n",
       "32759       1     15679   46503         120140         120141         121589   \n",
       "32760       1     17308    1550         117961         118225         123173   \n",
       "32761       1     16354   25618         117961         118327         118320   \n",
       "32762       1      6921    3954         117961         118343         120291   \n",
       "32763       1     32147    3883         117961         118343         119987   \n",
       "32764       1     23497   16971         117961         118300         119993   \n",
       "32765       1     25139  311198          91261         118026         122392   \n",
       "32766       1     34924   28805         117961         118327         120299   \n",
       "32767       1     80574   55643         118256         118257         117945   \n",
       "32768       1     14354   59575         117916         118150         117920   \n",
       "\n",
       "       ROLE_TITLE  ROLE_FAMILY_DESC  ROLE_FAMILY  ROLE_CODE  \n",
       "0          117905            117906       290919     117908  \n",
       "1          118536            118536       308574     118539  \n",
       "2          117879            267952        19721     117880  \n",
       "3          118321            240983       290919     118322  \n",
       "4          119323            123932        19793     119325  \n",
       "5          118568            118568        19721     118570  \n",
       "6          118980            301534       118295     118982  \n",
       "7          126820            269034       118638     126822  \n",
       "8          128230            302830         4673     128231  \n",
       "9          117879            304519        19721     117880  \n",
       "10         118784            117906       290919     118786  \n",
       "11         119093            138522       119095     119096  \n",
       "12         120773            123148       118960     120774  \n",
       "13         119962            168365       118205     119964  \n",
       "14         118321            117906       290919     118322  \n",
       "15         117885            117886       117887     117888  \n",
       "16         118321            117906       290919     118322  \n",
       "17         118702            118703       118704     118705  \n",
       "18         118278            132715       290919     118279  \n",
       "19         118321            117906       290919     118322  \n",
       "20         120006            303717       118424     120008  \n",
       "21         117905            240983       290919     117908  \n",
       "22         118777            279443       308574     118779  \n",
       "23         118321            117906       290919     118322  \n",
       "24         118259            117906       290919     118261  \n",
       "25         118259            128796       290919     118261  \n",
       "26         117905            117906       290919     117908  \n",
       "27         179731            128361       117887     117973  \n",
       "28         118568            165015        19721     118570  \n",
       "29         120313            144958       118424     120315  \n",
       "...           ...               ...          ...        ...  \n",
       "32739      118568            281735        19721     118570  \n",
       "32740      117905            117906       290919     117908  \n",
       "32741      118321            117906       290919     118322  \n",
       "32742      119192            135136       119184     119194  \n",
       "32743      117905            117906       290919     117908  \n",
       "32744      118321            117906       290919     118322  \n",
       "32745      118685            152298       308574     118687  \n",
       "32746      118321            117906       290919     118322  \n",
       "32747      120006            159698       118424     120008  \n",
       "32748      120516            146694       120518     120519  \n",
       "32749      121527            128634       118398     121529  \n",
       "32750      118784            126514       290919     118786  \n",
       "32751      118321            117906       290919     118322  \n",
       "32752      121067            229187       121069     121070  \n",
       "32753      117985            121679        19793     117987  \n",
       "32754      117885            117913       117887     117888  \n",
       "32755      117905            240983       290919     117908  \n",
       "32756      118728            244948       118295     118730  \n",
       "32757      118129            122064       118131     118132  \n",
       "32758      123045            123107       120518     123047  \n",
       "32759      120952            120953       118453     120954  \n",
       "32760      119093            123174       119095     119096  \n",
       "32761      122060            122060       290919     122062  \n",
       "32762      118422            300136       118424     118425  \n",
       "32763      118784            118785       290919     118786  \n",
       "32764      118321            240983       290919     118322  \n",
       "32765      121143            173805       249618     121145  \n",
       "32766      124922            152038       118612     124924  \n",
       "32767      280788            280788       292795     119082  \n",
       "32768      118568            122142        19721     118570  \n",
       "\n",
       "[32769 rows x 10 columns]"
      ]
     },
     "execution_count": 72,
     "metadata": {},
     "output_type": "execute_result"
    }
   ],
   "source": [
    "x"
   ]
  },
  {
   "cell_type": "code",
   "execution_count": 84,
   "metadata": {},
   "outputs": [
    {
     "ename": "TypeError",
     "evalue": "'(0         85475\n1          1540\n2         14457\n3          5396\n4          5905\n5         14561\n6         17227\n7          4209\n8           783\n9         56683\n10         3005\n11        94005\n12        46608\n13        50997\n14        18181\n15         6657\n16        23136\n17        57715\n18         7002\n19         5636\n20         5220\n21       111936\n22          744\n23        85475\n24         7551\n25        28253\n26        14829\n27        11506\n28        46556\n29         4219\n          ...  \n32739     27915\n32740      3197\n32741      6199\n32742      2229\n32743     50976\n32744      5396\n32745     27394\n32746      2610\n32747      4871\n32748      2299\n32749      1728\n32750      3225\n32751      4659\n32752     22355\n32753     53282\n32754     59712\n32755     54618\n32756      3221\n32757      4945\n32758      5423\n32759     46503\n32760      1550\n32761     25618\n32762      3954\n32763      3883\n32764     16971\n32765    311198\n32766     28805\n32767     55643\n32768     59575\nName: MGR_ID, Length: 32769, dtype: int64, 0        117908\n1        118539\n2        117880\n3        118322\n4        119325\n5        118570\n6        118982\n7        126822\n8        128231\n9        117880\n10       118786\n11       119096\n12       120774\n13       119964\n14       118322\n15       117888\n16       118322\n17       118705\n18       118279\n19       118322\n20       120008\n21       117908\n22       118779\n23       118322\n24       118261\n25       118261\n26       117908\n27       117973\n28       118570\n29       120315\n          ...  \n32739    118570\n32740    117908\n32741    118322\n32742    119194\n32743    117908\n32744    118322\n32745    118687\n32746    118322\n32747    120008\n32748    120519\n32749    121529\n32750    118786\n32751    118322\n32752    121070\n32753    117987\n32754    117888\n32755    117908\n32756    118730\n32757    118132\n32758    123047\n32759    120954\n32760    119096\n32761    122062\n32762    118425\n32763    118786\n32764    118322\n32765    121145\n32766    124924\n32767    119082\n32768    118570\nName: ROLE_CODE, Length: 32769, dtype: int64, 0        117905\n1        118536\n2        117879\n3        118321\n4        119323\n5        118568\n6        118980\n7        126820\n8        128230\n9        117879\n10       118784\n11       119093\n12       120773\n13       119962\n14       118321\n15       117885\n16       118321\n17       118702\n18       118278\n19       118321\n20       120006\n21       117905\n22       118777\n23       118321\n24       118259\n25       118259\n26       117905\n27       179731\n28       118568\n29       120313\n          ...  \n32739    118568\n32740    117905\n32741    118321\n32742    119192\n32743    117905\n32744    118321\n32745    118685\n32746    118321\n32747    120006\n32748    120516\n32749    121527\n32750    118784\n32751    118321\n32752    121067\n32753    117985\n32754    117885\n32755    117905\n32756    118728\n32757    118129\n32758    123045\n32759    120952\n32760    119093\n32761    122060\n32762    118422\n32763    118784\n32764    118321\n32765    121143\n32766    124922\n32767    280788\n32768    118568\nName: ROLE_TITLE, Length: 32769, dtype: int64)' is an invalid key",
     "output_type": "error",
     "traceback": [
      "\u001b[1;31m---------------------------------------------------------------------------\u001b[0m",
      "\u001b[1;31mTypeError\u001b[0m                                 Traceback (most recent call last)",
      "\u001b[1;32m<ipython-input-84-57dec1b44236>\u001b[0m in \u001b[0;36m<module>\u001b[1;34m\u001b[0m\n\u001b[1;32m----> 1\u001b[1;33m \u001b[0mzz\u001b[0m \u001b[1;33m=\u001b[0m \u001b[0mx\u001b[0m\u001b[1;33m[\u001b[0m\u001b[0mx\u001b[0m\u001b[1;33m.\u001b[0m\u001b[0mMGR_ID\u001b[0m\u001b[1;33m,\u001b[0m\u001b[0mx\u001b[0m\u001b[1;33m.\u001b[0m\u001b[0mROLE_CODE\u001b[0m\u001b[1;33m,\u001b[0m\u001b[0mx\u001b[0m\u001b[1;33m.\u001b[0m\u001b[0mROLE_TITLE\u001b[0m\u001b[1;33m]\u001b[0m\u001b[1;33m\u001b[0m\u001b[1;33m\u001b[0m\u001b[0m\n\u001b[0m",
      "\u001b[1;32m~\\AppData\\Local\\Continuum\\anaconda3\\lib\\site-packages\\pandas\\core\\frame.py\u001b[0m in \u001b[0;36m__getitem__\u001b[1;34m(self, key)\u001b[0m\n\u001b[0;32m   2925\u001b[0m             \u001b[1;32mif\u001b[0m \u001b[0mself\u001b[0m\u001b[1;33m.\u001b[0m\u001b[0mcolumns\u001b[0m\u001b[1;33m.\u001b[0m\u001b[0mnlevels\u001b[0m \u001b[1;33m>\u001b[0m \u001b[1;36m1\u001b[0m\u001b[1;33m:\u001b[0m\u001b[1;33m\u001b[0m\u001b[1;33m\u001b[0m\u001b[0m\n\u001b[0;32m   2926\u001b[0m                 \u001b[1;32mreturn\u001b[0m \u001b[0mself\u001b[0m\u001b[1;33m.\u001b[0m\u001b[0m_getitem_multilevel\u001b[0m\u001b[1;33m(\u001b[0m\u001b[0mkey\u001b[0m\u001b[1;33m)\u001b[0m\u001b[1;33m\u001b[0m\u001b[1;33m\u001b[0m\u001b[0m\n\u001b[1;32m-> 2927\u001b[1;33m             \u001b[0mindexer\u001b[0m \u001b[1;33m=\u001b[0m \u001b[0mself\u001b[0m\u001b[1;33m.\u001b[0m\u001b[0mcolumns\u001b[0m\u001b[1;33m.\u001b[0m\u001b[0mget_loc\u001b[0m\u001b[1;33m(\u001b[0m\u001b[0mkey\u001b[0m\u001b[1;33m)\u001b[0m\u001b[1;33m\u001b[0m\u001b[1;33m\u001b[0m\u001b[0m\n\u001b[0m\u001b[0;32m   2928\u001b[0m             \u001b[1;32mif\u001b[0m \u001b[0mis_integer\u001b[0m\u001b[1;33m(\u001b[0m\u001b[0mindexer\u001b[0m\u001b[1;33m)\u001b[0m\u001b[1;33m:\u001b[0m\u001b[1;33m\u001b[0m\u001b[1;33m\u001b[0m\u001b[0m\n\u001b[0;32m   2929\u001b[0m                 \u001b[0mindexer\u001b[0m \u001b[1;33m=\u001b[0m \u001b[1;33m[\u001b[0m\u001b[0mindexer\u001b[0m\u001b[1;33m]\u001b[0m\u001b[1;33m\u001b[0m\u001b[1;33m\u001b[0m\u001b[0m\n",
      "\u001b[1;32m~\\AppData\\Local\\Continuum\\anaconda3\\lib\\site-packages\\pandas\\core\\indexes\\base.py\u001b[0m in \u001b[0;36mget_loc\u001b[1;34m(self, key, method, tolerance)\u001b[0m\n\u001b[0;32m   2655\u001b[0m                                  'backfill or nearest lookups')\n\u001b[0;32m   2656\u001b[0m             \u001b[1;32mtry\u001b[0m\u001b[1;33m:\u001b[0m\u001b[1;33m\u001b[0m\u001b[1;33m\u001b[0m\u001b[0m\n\u001b[1;32m-> 2657\u001b[1;33m                 \u001b[1;32mreturn\u001b[0m \u001b[0mself\u001b[0m\u001b[1;33m.\u001b[0m\u001b[0m_engine\u001b[0m\u001b[1;33m.\u001b[0m\u001b[0mget_loc\u001b[0m\u001b[1;33m(\u001b[0m\u001b[0mkey\u001b[0m\u001b[1;33m)\u001b[0m\u001b[1;33m\u001b[0m\u001b[1;33m\u001b[0m\u001b[0m\n\u001b[0m\u001b[0;32m   2658\u001b[0m             \u001b[1;32mexcept\u001b[0m \u001b[0mKeyError\u001b[0m\u001b[1;33m:\u001b[0m\u001b[1;33m\u001b[0m\u001b[1;33m\u001b[0m\u001b[0m\n\u001b[0;32m   2659\u001b[0m                 \u001b[1;32mreturn\u001b[0m \u001b[0mself\u001b[0m\u001b[1;33m.\u001b[0m\u001b[0m_engine\u001b[0m\u001b[1;33m.\u001b[0m\u001b[0mget_loc\u001b[0m\u001b[1;33m(\u001b[0m\u001b[0mself\u001b[0m\u001b[1;33m.\u001b[0m\u001b[0m_maybe_cast_indexer\u001b[0m\u001b[1;33m(\u001b[0m\u001b[0mkey\u001b[0m\u001b[1;33m)\u001b[0m\u001b[1;33m)\u001b[0m\u001b[1;33m\u001b[0m\u001b[1;33m\u001b[0m\u001b[0m\n",
      "\u001b[1;32mpandas/_libs/index.pyx\u001b[0m in \u001b[0;36mpandas._libs.index.IndexEngine.get_loc\u001b[1;34m()\u001b[0m\n",
      "\u001b[1;32mpandas/_libs/index.pyx\u001b[0m in \u001b[0;36mpandas._libs.index.IndexEngine.get_loc\u001b[1;34m()\u001b[0m\n",
      "\u001b[1;31mTypeError\u001b[0m: '(0         85475\n1          1540\n2         14457\n3          5396\n4          5905\n5         14561\n6         17227\n7          4209\n8           783\n9         56683\n10         3005\n11        94005\n12        46608\n13        50997\n14        18181\n15         6657\n16        23136\n17        57715\n18         7002\n19         5636\n20         5220\n21       111936\n22          744\n23        85475\n24         7551\n25        28253\n26        14829\n27        11506\n28        46556\n29         4219\n          ...  \n32739     27915\n32740      3197\n32741      6199\n32742      2229\n32743     50976\n32744      5396\n32745     27394\n32746      2610\n32747      4871\n32748      2299\n32749      1728\n32750      3225\n32751      4659\n32752     22355\n32753     53282\n32754     59712\n32755     54618\n32756      3221\n32757      4945\n32758      5423\n32759     46503\n32760      1550\n32761     25618\n32762      3954\n32763      3883\n32764     16971\n32765    311198\n32766     28805\n32767     55643\n32768     59575\nName: MGR_ID, Length: 32769, dtype: int64, 0        117908\n1        118539\n2        117880\n3        118322\n4        119325\n5        118570\n6        118982\n7        126822\n8        128231\n9        117880\n10       118786\n11       119096\n12       120774\n13       119964\n14       118322\n15       117888\n16       118322\n17       118705\n18       118279\n19       118322\n20       120008\n21       117908\n22       118779\n23       118322\n24       118261\n25       118261\n26       117908\n27       117973\n28       118570\n29       120315\n          ...  \n32739    118570\n32740    117908\n32741    118322\n32742    119194\n32743    117908\n32744    118322\n32745    118687\n32746    118322\n32747    120008\n32748    120519\n32749    121529\n32750    118786\n32751    118322\n32752    121070\n32753    117987\n32754    117888\n32755    117908\n32756    118730\n32757    118132\n32758    123047\n32759    120954\n32760    119096\n32761    122062\n32762    118425\n32763    118786\n32764    118322\n32765    121145\n32766    124924\n32767    119082\n32768    118570\nName: ROLE_CODE, Length: 32769, dtype: int64, 0        117905\n1        118536\n2        117879\n3        118321\n4        119323\n5        118568\n6        118980\n7        126820\n8        128230\n9        117879\n10       118784\n11       119093\n12       120773\n13       119962\n14       118321\n15       117885\n16       118321\n17       118702\n18       118278\n19       118321\n20       120006\n21       117905\n22       118777\n23       118321\n24       118259\n25       118259\n26       117905\n27       179731\n28       118568\n29       120313\n          ...  \n32739    118568\n32740    117905\n32741    118321\n32742    119192\n32743    117905\n32744    118321\n32745    118685\n32746    118321\n32747    120006\n32748    120516\n32749    121527\n32750    118784\n32751    118321\n32752    121067\n32753    117985\n32754    117885\n32755    117905\n32756    118728\n32757    118129\n32758    123045\n32759    120952\n32760    119093\n32761    122060\n32762    118422\n32763    118784\n32764    118321\n32765    121143\n32766    124922\n32767    280788\n32768    118568\nName: ROLE_TITLE, Length: 32769, dtype: int64)' is an invalid key"
     ]
    }
   ],
   "source": [
    "zz = x[x.MGR_ID,x.ROLE_CODE,x.ROLE_TITLE]"
   ]
  },
  {
   "cell_type": "code",
   "execution_count": 89,
   "metadata": {},
   "outputs": [
    {
     "data": {
      "text/plain": [
       "[0        False\n",
       " 1        False\n",
       " 2        False\n",
       " 3        False\n",
       " 4        False\n",
       " 5        False\n",
       " 6        False\n",
       " 7        False\n",
       " 8        False\n",
       " 9        False\n",
       " 10       False\n",
       " 11       False\n",
       " 12       False\n",
       " 13       False\n",
       " 14       False\n",
       " 15       False\n",
       " 16       False\n",
       " 17       False\n",
       " 18       False\n",
       " 19       False\n",
       " 20       False\n",
       " 21       False\n",
       " 22       False\n",
       " 23       False\n",
       " 24       False\n",
       " 25       False\n",
       " 26       False\n",
       " 27       False\n",
       " 28       False\n",
       " 29       False\n",
       "          ...  \n",
       " 32739    False\n",
       " 32740    False\n",
       " 32741    False\n",
       " 32742    False\n",
       " 32743    False\n",
       " 32744    False\n",
       " 32745    False\n",
       " 32746    False\n",
       " 32747    False\n",
       " 32748    False\n",
       " 32749    False\n",
       " 32750    False\n",
       " 32751    False\n",
       " 32752    False\n",
       " 32753    False\n",
       " 32754    False\n",
       " 32755    False\n",
       " 32756    False\n",
       " 32757    False\n",
       " 32758    False\n",
       " 32759    False\n",
       " 32760    False\n",
       " 32761    False\n",
       " 32762    False\n",
       " 32763    False\n",
       " 32764    False\n",
       " 32765    False\n",
       " 32766    False\n",
       " 32767    False\n",
       " 32768    False\n",
       " Length: 32769, dtype: bool]"
      ]
     },
     "execution_count": 89,
     "metadata": {},
     "output_type": "execute_result"
    }
   ],
   "source": [
    "[azz[1] == zz[2]]"
   ]
  }
 ],
 "metadata": {
  "kernelspec": {
   "display_name": "Python 3",
   "language": "python",
   "name": "python3"
  },
  "language_info": {
   "codemirror_mode": {
    "name": "ipython",
    "version": 3
   },
   "file_extension": ".py",
   "mimetype": "text/x-python",
   "name": "python",
   "nbconvert_exporter": "python",
   "pygments_lexer": "ipython3",
   "version": "3.7.3"
  }
 },
 "nbformat": 4,
 "nbformat_minor": 2
}
